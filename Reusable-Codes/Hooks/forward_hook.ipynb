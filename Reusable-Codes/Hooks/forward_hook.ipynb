{
 "cells": [
  {
   "cell_type": "markdown",
   "id": "sustained-compiler",
   "metadata": {},
   "source": [
    "### In this notebook we understand the implementation of forward hooks to get output activations from intermediate layers"
   ]
  },
  {
   "cell_type": "markdown",
   "id": "enormous-copyright",
   "metadata": {},
   "source": [
    "### 1. Import libraries"
   ]
  },
  {
   "cell_type": "code",
   "execution_count": 30,
   "id": "fifth-contrary",
   "metadata": {},
   "outputs": [],
   "source": [
    "import torch\n",
    "from torch import nn\n",
    "import numpy as np\n",
    "%matplotlib inline\n",
    "%config InlineBackend.figure_format = 'retina'\n",
    "from collections import OrderedDict\n",
    "import matplotlib.pyplot as plt"
   ]
  },
  {
   "cell_type": "markdown",
   "id": "appreciated-judge",
   "metadata": {},
   "source": [
    "### 2. Create model"
   ]
  },
  {
   "cell_type": "code",
   "execution_count": 35,
   "id": "cellular-woman",
   "metadata": {},
   "outputs": [],
   "source": [
    "model = nn.Sequential(OrderedDict([('fc1',nn.Linear(256,128)),\n",
    "                       ('sigmoid', nn.Sigmoid()),\n",
    "                       ('fc2', nn.Linear(128,5)),\n",
    "                       ('softmax',nn.Softmax(dim=1))]))\n",
    "#define intput\n",
    "x = torch.rand(1, 256)\n",
    "\n"
   ]
  },
  {
   "cell_type": "markdown",
   "id": "outer-domain",
   "metadata": {},
   "source": [
    "### 3. Define hooks"
   ]
  },
  {
   "cell_type": "code",
   "execution_count": 36,
   "id": "instrumental-mother",
   "metadata": {},
   "outputs": [],
   "source": [
    "activations = {} #this will store the outputs of layers\n",
    "\n",
    "### This function returns the activations\n",
    "def get_activation(name): #name -> layer name. As we cannot send name to activation_hook directly we create an abstraciton to send name\n",
    "    def activation_hook(inst, inp, out):\n",
    "        \"\"\"Run activation hook.\n",
    "        Parameters\n",
    "        ----------\n",
    "        inst : torch.nn.Module\n",
    "            The layer we want to attach the hook to.\n",
    "        inp : tuple of torch.Tensor\n",
    "            The input to the `forward` method.\n",
    "        out : torch.Tensor\n",
    "            The output of the `forward` method.\n",
    "        \"\"\"\n",
    "        activations[name] = out.data\n",
    "    return activation_hook\n",
    "\n",
    "\n",
    "\n"
   ]
  },
  {
   "cell_type": "markdown",
   "id": "intermediate-layer",
   "metadata": {},
   "source": [
    "#### 3.1 Method 1: Get layer by name"
   ]
  },
  {
   "cell_type": "code",
   "execution_count": 37,
   "id": "unlike-width",
   "metadata": {},
   "outputs": [
    {
     "data": {
      "text/plain": [
       "Sequential(\n",
       "  (fc1): Linear(in_features=256, out_features=128, bias=True)\n",
       "  (sigmoid): Sigmoid()\n",
       "  (fc2): Linear(in_features=128, out_features=5, bias=True)\n",
       "  (softmax): Softmax(dim=1)\n",
       ")"
      ]
     },
     "execution_count": 37,
     "metadata": {},
     "output_type": "execute_result"
    }
   ],
   "source": [
    "model"
   ]
  },
  {
   "cell_type": "code",
   "execution_count": 38,
   "id": "instant-private",
   "metadata": {},
   "outputs": [],
   "source": [
    "#Register forward hooks for the layers required\n",
    "model.fc1.register_forward_hook(get_activation('fc1'))\n",
    "model.sigmoid.register_forward_hook(get_activation('sigmoid'))\n",
    "model.fc2.register_forward_hook(get_activation('fc2'))\n",
    "model.softmax.register_forward_hook(get_activation('softmax'))\n",
    "\n",
    "y = model(x)"
   ]
  },
  {
   "cell_type": "code",
   "execution_count": 39,
   "id": "million-turkey",
   "metadata": {},
   "outputs": [
    {
     "name": "stdout",
     "output_type": "stream",
     "text": [
      "fc1  :  torch.Size([1, 128])\n",
      "sigmoid  :  torch.Size([1, 128])\n",
      "fc2  :  torch.Size([1, 5])\n",
      "softmax  :  torch.Size([1, 5])\n",
      "\n",
      "softmax output:  tensor([[0.2880, 0.1523, 0.1777, 0.1822, 0.1998]])\n"
     ]
    }
   ],
   "source": [
    "for name, outputs in activations.items():\n",
    "    print(name,' : ', outputs.shape)\n",
    "print('\\nsoftmax output: ', activations['softmax'])"
   ]
  },
  {
   "cell_type": "code",
   "execution_count": 40,
   "id": "flexible-expense",
   "metadata": {},
   "outputs": [
    {
     "name": "stdout",
     "output_type": "stream",
     "text": [
      "tensor([[0.2880, 0.1523, 0.1777, 0.1822, 0.1998]])\n"
     ]
    }
   ],
   "source": [
    "print(y.data)"
   ]
  },
  {
   "cell_type": "markdown",
   "id": "extended-wrestling",
   "metadata": {},
   "source": [
    "> We can see above that the forward hook for softmax returns the same values as output from the model"
   ]
  },
  {
   "cell_type": "markdown",
   "id": "unknown-department",
   "metadata": {},
   "source": [
    "#### 3.2 Method 2: Get all layers by using model.named_modules()\n",
    "We can get name and the layers using named_modules()"
   ]
  },
  {
   "cell_type": "code",
   "execution_count": 41,
   "id": "national-armstrong",
   "metadata": {},
   "outputs": [
    {
     "name": "stdout",
     "output_type": "stream",
     "text": [
      " : Sequential(\n",
      "  (fc1): Linear(in_features=256, out_features=128, bias=True)\n",
      "  (sigmoid): Sigmoid()\n",
      "  (fc2): Linear(in_features=128, out_features=5, bias=True)\n",
      "  (softmax): Softmax(dim=1)\n",
      ")\n",
      "fc1 : Linear(in_features=256, out_features=128, bias=True)\n",
      "sigmoid : Sigmoid()\n",
      "fc2 : Linear(in_features=128, out_features=5, bias=True)\n",
      "softmax : Softmax(dim=1)\n"
     ]
    }
   ],
   "source": [
    "for name, module in model.named_modules():\n",
    "    print(name, ':', module)"
   ]
  },
  {
   "cell_type": "code",
   "execution_count": 42,
   "id": "valid-postcard",
   "metadata": {},
   "outputs": [],
   "source": [
    "activations = {} #this will store the outputs of layers\n",
    "#register forward hooks\n",
    "for name, layer in model.named_modules():\n",
    "    layer.register_forward_hook(get_activation(name))\n",
    "\n",
    "\n",
    "y = model(x)"
   ]
  },
  {
   "cell_type": "code",
   "execution_count": null,
   "id": "center-queens",
   "metadata": {},
   "outputs": [],
   "source": []
  },
  {
   "cell_type": "code",
   "execution_count": 43,
   "id": "exterior-mason",
   "metadata": {},
   "outputs": [
    {
     "name": "stdout",
     "output_type": "stream",
     "text": [
      "fc1  :  torch.Size([1, 128])\n",
      "sigmoid  :  torch.Size([1, 128])\n",
      "fc2  :  torch.Size([1, 5])\n",
      "softmax  :  torch.Size([1, 5])\n",
      "  :  torch.Size([1, 5])\n",
      "\n",
      "softmax output:  tensor([[0.2880, 0.1523, 0.1777, 0.1822, 0.1998]])\n"
     ]
    }
   ],
   "source": [
    "for name, outputs in activations.items():\n",
    "    print(name,' : ', outputs.shape)\n",
    "print('\\nsoftmax output: ', activations['softmax'])"
   ]
  },
  {
   "cell_type": "code",
   "execution_count": 44,
   "id": "adjacent-evolution",
   "metadata": {},
   "outputs": [
    {
     "data": {
      "text/plain": [
       "{'fc1': tensor([[ 0.3277,  0.1293, -0.4970, -0.3330, -0.3032, -0.2126,  0.0152, -0.2876,\n",
       "           0.7523,  0.1182,  0.0701, -0.5513, -0.3919, -0.5075,  0.1372,  0.3716,\n",
       "           0.1022, -0.3929,  0.1653,  0.1895,  0.2789, -0.4470, -0.3832, -0.3496,\n",
       "           0.3696,  0.3223,  0.0565,  0.1740, -0.0396, -0.5457,  0.0604, -0.5024,\n",
       "          -0.2981, -0.1850,  0.3374,  0.6263,  0.1753,  0.5658, -0.3108, -0.3544,\n",
       "          -0.1556, -0.1320, -0.1208,  0.1302,  0.4653,  0.5090,  0.1038,  0.5372,\n",
       "          -0.8012,  0.2552,  0.4714,  0.1259,  0.1132,  0.1752, -0.0797, -0.1166,\n",
       "           0.1636, -0.3411, -0.1170,  0.2372,  0.0247, -0.2229,  0.4604,  0.0673,\n",
       "          -0.1864, -0.2419, -0.1466,  0.4694,  0.1581,  0.5005,  0.2097, -0.5272,\n",
       "          -0.5777,  0.0914, -0.0466,  0.2129, -0.1508,  0.1266, -0.4131,  0.3833,\n",
       "           0.1602,  0.0055, -0.2538,  0.3353,  0.1259,  0.3631, -0.1781,  0.1397,\n",
       "           0.4234,  0.1705,  0.4128,  0.1568, -0.5319, -0.2692, -0.2828, -0.2603,\n",
       "          -0.2575,  0.0839, -0.0923, -0.0222, -0.2284, -0.3459,  0.4196, -0.0334,\n",
       "          -0.0861, -0.1658, -0.0781,  0.1081,  0.4430,  0.0161, -0.1759,  0.2083,\n",
       "          -0.3195, -0.1127,  0.2394,  0.3376, -0.2410,  0.5790, -0.1093,  0.3162,\n",
       "           0.0638,  0.1760, -0.0514,  0.4115,  0.0184,  0.1721,  0.0466, -0.2257]]),\n",
       " 'sigmoid': tensor([[0.5812, 0.5323, 0.3782, 0.4175, 0.4248, 0.4470, 0.5038, 0.4286, 0.6797,\n",
       "          0.5295, 0.5175, 0.3656, 0.4033, 0.3758, 0.5342, 0.5918, 0.5255, 0.4030,\n",
       "          0.5412, 0.5472, 0.5693, 0.3901, 0.4054, 0.4135, 0.5914, 0.5799, 0.5141,\n",
       "          0.5434, 0.4901, 0.3669, 0.5151, 0.3770, 0.4260, 0.4539, 0.5836, 0.6516,\n",
       "          0.5437, 0.6378, 0.4229, 0.4123, 0.4612, 0.4670, 0.4698, 0.5325, 0.6143,\n",
       "          0.6246, 0.5259, 0.6312, 0.3098, 0.5634, 0.6157, 0.5314, 0.5283, 0.5437,\n",
       "          0.4801, 0.4709, 0.5408, 0.4155, 0.4708, 0.5590, 0.5062, 0.4445, 0.6131,\n",
       "          0.5168, 0.4535, 0.4398, 0.4634, 0.6152, 0.5394, 0.6226, 0.5522, 0.3712,\n",
       "          0.3595, 0.5228, 0.4883, 0.5530, 0.4624, 0.5316, 0.3982, 0.5947, 0.5400,\n",
       "          0.5014, 0.4369, 0.5830, 0.5314, 0.5898, 0.4556, 0.5349, 0.6043, 0.5425,\n",
       "          0.6018, 0.5391, 0.3701, 0.4331, 0.4298, 0.4353, 0.4360, 0.5210, 0.4769,\n",
       "          0.4945, 0.4431, 0.4144, 0.6034, 0.4916, 0.4785, 0.4586, 0.4805, 0.5270,\n",
       "          0.6090, 0.5040, 0.4561, 0.5519, 0.4208, 0.4719, 0.5596, 0.5836, 0.4400,\n",
       "          0.6408, 0.4727, 0.5784, 0.5159, 0.5439, 0.4872, 0.6014, 0.5046, 0.5429,\n",
       "          0.5116, 0.4438]]),\n",
       " 'fc2': tensor([[ 0.2322, -0.4053, -0.2508, -0.2257, -0.1337]]),\n",
       " 'softmax': tensor([[0.2880, 0.1523, 0.1777, 0.1822, 0.1998]]),\n",
       " '': tensor([[0.2880, 0.1523, 0.1777, 0.1822, 0.1998]])}"
      ]
     },
     "execution_count": 44,
     "metadata": {},
     "output_type": "execute_result"
    }
   ],
   "source": [
    "activations"
   ]
  },
  {
   "cell_type": "code",
   "execution_count": 23,
   "id": "dangerous-baltimore",
   "metadata": {},
   "outputs": [
    {
     "data": {
      "text/plain": [
       "tensor([[0.1325, 0.2931, 0.2387, 0.1624, 0.1733]])"
      ]
     },
     "execution_count": 23,
     "metadata": {},
     "output_type": "execute_result"
    }
   ],
   "source": [
    "y.data"
   ]
  },
  {
   "cell_type": "markdown",
   "id": "welcome-street",
   "metadata": {},
   "source": [
    "### 4. Visualize the activation histogram"
   ]
  },
  {
   "cell_type": "code",
   "execution_count": 61,
   "id": "graduate-anchor",
   "metadata": {},
   "outputs": [
    {
     "data": {
      "image/png": "[encoded data removed]",
      "text/plain": [
       "<Figure size 720x576 with 1 Axes>"
      ]
     },
     "metadata": {
      "image/png": {
       "height": 487,
       "width": 592
      },
      "needs_background": "light"
     },
     "output_type": "display_data"
    }
   ],
   "source": [
    "plt.figure(figsize=(10,8))\n",
    "_=plt.hist(activations['sigmoid'].numpy()[0], bins=25, color = 'orange')\n",
    "_=plt.title(\"fc1's sigmoid activation\", fontsize=20)"
   ]
  },
  {
   "cell_type": "code",
   "execution_count": null,
   "id": "modular-allergy",
   "metadata": {},
   "outputs": [],
   "source": []
  }
 ],
 "metadata": {
  "kernelspec": {
   "display_name": "Python 3",
   "language": "python",
   "name": "python3"
  },
  "language_info": {
   "codemirror_mode": {
    "name": "ipython",
    "version": 3
   },
   "file_extension": ".py",
   "mimetype": "text/x-python",
   "name": "python",
   "nbconvert_exporter": "python",
   "pygments_lexer": "ipython3",
   "version": "3.8.5"
  }
 },
 "nbformat": 4,
 "nbformat_minor": 5
}
