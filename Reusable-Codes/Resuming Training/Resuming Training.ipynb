{
 "cells": [
  {
   "cell_type": "markdown",
   "id": "098f606f-a1d5-458d-b16e-3ad62e71f42f",
   "metadata": {},
   "source": [
    "### Import Libraries"
   ]
  },
  {
   "cell_type": "code",
   "execution_count": 20,
   "id": "raising-partner",
   "metadata": {},
   "outputs": [],
   "source": [
    "# Import necessary packages\n",
    "\n",
    "%matplotlib inline\n",
    "%config InlineBackend.figure_format = 'retina'\n",
    "\n",
    "import numpy as np\n",
    "import torch\n",
    "from torch import nn, optim\n",
    "from torchvision import datasets, transforms\n",
    "import torch.nn.functional as F \n",
    "\n",
    "import matplotlib.pyplot as plt\n",
    "import time\n",
    "\n",
    "from tqdm import tqdm"
   ]
  },
  {
   "cell_type": "markdown",
   "id": "c25e34e1-a51b-46da-9f11-516404ff9216",
   "metadata": {},
   "source": [
    "### Load checkpoint"
   ]
  },
  {
   "cell_type": "code",
   "execution_count": 21,
   "id": "related-solid",
   "metadata": {},
   "outputs": [],
   "source": [
    "checkpoint = torch.load('checkpoint.tar')"
   ]
  },
  {
   "cell_type": "markdown",
   "id": "e245e954-1100-4c2a-80be-db711ae9be55",
   "metadata": {},
   "source": [
    "### Create data loaders"
   ]
  },
  {
   "cell_type": "code",
   "execution_count": 22,
   "id": "supreme-picking",
   "metadata": {},
   "outputs": [],
   "source": [
    "transform = checkpoint['transforms']\n",
    "# Download and load the training data\n",
    "trainset = datasets.FashionMNIST('~/.pytorch/F_MNIST_data/', download=True, train=True, transform=transform)\n",
    "trainloader = torch.utils.data.DataLoader(trainset, batch_size=64, shuffle=True)\n",
    "\n",
    "# Download and load the test data\n",
    "testset = datasets.FashionMNIST('~/.pytorch/F_MNIST_data/', download=True, train=False, transform=transform)\n",
    "testloader = torch.utils.data.DataLoader(testset, batch_size=64, shuffle=True)"
   ]
  },
  {
   "cell_type": "markdown",
   "id": "c8291d72-1225-46a1-8fe9-7ee96a9e0695",
   "metadata": {},
   "source": [
    "### Create the same model"
   ]
  },
  {
   "cell_type": "code",
   "execution_count": 23,
   "id": "strong-plumbing",
   "metadata": {},
   "outputs": [],
   "source": [
    "class Network(nn.Module):\n",
    "    def __init__(self):\n",
    "        super().__init__()\n",
    "        self.fc1 = nn.Linear(784, 256)\n",
    "        self.fc2 = nn.Linear(256,128)\n",
    "        self.fc3 = nn.Linear(128, 64)\n",
    "        self.fc4 = nn.Linear(64, 10)\n",
    "        self.dropout = nn.Dropout(p=0.2)\n",
    "        \n",
    "    def forward(self,x):\n",
    "        x = self.dropout(F.relu(self.fc1(x)))\n",
    "        x = self.dropout(F.relu(self.fc2(x)))\n",
    "        x = self.dropout(F.relu(self.fc3(x)))\n",
    "        x = F.log_softmax(self.fc4(x), dim=1)\n",
    "        return x\n",
    "\n",
    "        \n",
    "        \n",
    "def train_one_epoch(epoch, model, loss_fn, optimizer, train_loader):\n",
    "    #put model in training state\n",
    "    model.train()\n",
    "    \n",
    "    running_loss = 0\n",
    "    \n",
    "    #pbar = tqdm(enumerate(train_loader), total = len(train_loader)+1)\n",
    "    \n",
    "    for (imgs, labels) in train_loader:\n",
    "        imgs = imgs.view(imgs.shape[0], -1) #since we have a flat network right now\n",
    "        \n",
    "        preds = model(imgs)\n",
    "        loss = loss_fn(preds, labels)\n",
    "        loss.backward()\n",
    "        \n",
    "        optimizer.step()\n",
    "        optimizer.zero_grad()\n",
    "        \n",
    "        running_loss+= loss.item()\n",
    "    print('Epoch {} avg Training loss: {:.3f}'.format(epoch, running_loss/len(train_loader)))\n",
    "    \n",
    "    return running_loss/len(train_loader)\n",
    "        \n",
    "def valid_one_epoch(epoch, model, loss_fn, test_loader):\n",
    "    model.eval()\n",
    "    \n",
    "    #pbar = tqdm(enumerate(test_loader), total = len(test_loader))\n",
    "    running_loss = 0\n",
    "    actual_labels = []\n",
    "    pred_labels = []\n",
    "    \n",
    "    for (imgs, labels) in test_loader:\n",
    "        imgs = imgs.view(imgs.shape[0], -1) #since we have a flat network right now\n",
    "        \n",
    "        log_preds = model(imgs)\n",
    "        loss = loss_fn(log_preds, labels)\n",
    "        \n",
    "        \n",
    "        preds = torch.exp(log_preds)\n",
    "        running_loss+=loss.item()\n",
    "        \n",
    "        #calculate accuracy\n",
    "        top_prob, top_class = preds.topk(1, dim=1)\n",
    "        pred_labels+= list((top_class.view(-1)).numpy())\n",
    "        actual_labels+= list(labels.numpy())\n",
    "        \n",
    "        \n",
    "    \n",
    "    accuracy = ((np.array(pred_labels)==np.array(actual_labels)).sum())/10000 #size of test set\n",
    "    print('Epoch {} avg Valid loss: {:.3f}'.format(epoch, running_loss/len(test_loader)))\n",
    "    print('Epoch {} Valid accuracy: {:.1%}\\n'.format(epoch, accuracy))\n",
    "    \n",
    "    return running_loss/len(test_loader)\n",
    "    \n",
    "        "
   ]
  },
  {
   "cell_type": "code",
   "execution_count": 26,
   "id": "civilian-hotel",
   "metadata": {},
   "outputs": [],
   "source": [
    "#create the same network\n",
    "model = Network()\n",
    "\n",
    "#load the dictionary\n",
    "model.load_state_dict(checkpoint['model_state_dict'])\n",
    "\n",
    "loss_fn = checkpoint['loss']\n",
    "\n",
    "optimizer = optim.Adam(model.parameters(), lr = 0.003)\n",
    "#load the optimizer state\n",
    "optimizer.load_state_dict(checkpoint['optimizer_state_dict'])\n",
    "\n",
    "last_epoch = checkpoint['epoch']+1"
   ]
  },
  {
   "cell_type": "markdown",
   "id": "d29f1464-c8d6-47b7-b182-d478e71e6ad8",
   "metadata": {},
   "source": [
    "### Resuming Training"
   ]
  },
  {
   "cell_type": "code",
   "execution_count": 27,
   "id": "cross-windows",
   "metadata": {},
   "outputs": [
    {
     "name": "stdout",
     "output_type": "stream",
     "text": [
      "Trained for 10 epochs\n",
      "Resuming Training---->\n",
      "Epoch 10 avg Training loss: 0.380\n",
      "Epoch 10 avg Valid loss: 0.429\n",
      "Epoch 10 Valid accuracy: 85.1%\n",
      "\n",
      "Epoch 11 avg Training loss: 0.391\n",
      "Epoch 11 avg Valid loss: 0.421\n",
      "Epoch 11 Valid accuracy: 85.5%\n",
      "\n",
      "Epoch 12 avg Training loss: 0.379\n",
      "Epoch 12 avg Valid loss: 0.392\n",
      "Epoch 12 Valid accuracy: 86.3%\n",
      "\n"
     ]
    }
   ],
   "source": [
    "print('Trained for {} epochs\\nResuming Training---->'.format(last_epoch))\n",
    "train_losses = []\n",
    "valid_losses = []\n",
    "for epoch in range(last_epoch,last_epoch+3):\n",
    "    train_loss = train_one_epoch(epoch, model, loss_fn, optimizer, trainloader)\n",
    "    train_losses+= [train_loss]\n",
    "    valid_loss = valid_one_epoch(epoch, model, loss_fn, testloader)\n",
    "    valid_losses+=[valid_loss]\n",
    "    \n",
    "    "
   ]
  },
  {
   "cell_type": "code",
   "execution_count": 29,
   "id": "acoustic-credits",
   "metadata": {},
   "outputs": [
    {
     "data": {
      "text/plain": [
       "<matplotlib.legend.Legend at 0x7fb164b31dc0>"
      ]
     },
     "execution_count": 29,
     "metadata": {},
     "output_type": "execute_result"
    },
    {
     "data": {
      "image/png": "[encoded data removed]",
      "text/plain": [
       "<Figure size 432x288 with 1 Axes>"
      ]
     },
     "metadata": {
      "image/png": {
       "height": 248,
       "width": 378
      },
      "needs_background": "light"
     },
     "output_type": "display_data"
    }
   ],
   "source": [
    "plt.plot(train_losses, label='Training loss')\n",
    "plt.plot(valid_losses, label='Validation loss')\n",
    "plt.legend(frameon=False)"
   ]
  },
  {
   "cell_type": "markdown",
   "id": "continuous-crown",
   "metadata": {},
   "source": []
  },
  {
   "cell_type": "code",
   "execution_count": null,
   "id": "middle-astronomy",
   "metadata": {},
   "outputs": [],
   "source": []
  },
  {
   "cell_type": "code",
   "execution_count": null,
   "id": "weighted-detective",
   "metadata": {},
   "outputs": [],
   "source": []
  },
  {
   "cell_type": "code",
   "execution_count": null,
   "id": "sunrise-daisy",
   "metadata": {},
   "outputs": [],
   "source": []
  },
  {
   "cell_type": "code",
   "execution_count": null,
   "id": "greenhouse-stereo",
   "metadata": {},
   "outputs": [],
   "source": []
  },
  {
   "cell_type": "code",
   "execution_count": null,
   "id": "middle-dependence",
   "metadata": {},
   "outputs": [],
   "source": []
  }
 ],
 "metadata": {
  "kernelspec": {
   "display_name": "Python 3",
   "language": "python",
   "name": "python3"
  },
  "language_info": {
   "codemirror_mode": {
    "name": "ipython",
    "version": 3
   },
   "file_extension": ".py",
   "mimetype": "text/x-python",
   "name": "python",
   "nbconvert_exporter": "python",
   "pygments_lexer": "ipython3",
   "version": "3.8.5"
  }
 },
 "nbformat": 4,
 "nbformat_minor": 5
}
