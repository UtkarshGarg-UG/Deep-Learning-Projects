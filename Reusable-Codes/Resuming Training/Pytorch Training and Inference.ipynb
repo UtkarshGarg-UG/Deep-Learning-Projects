{
 "cells": [
  {
   "cell_type": "markdown",
   "id": "representative-mixer",
   "metadata": {},
   "source": [
    "### 1. Import Libraries"
   ]
  },
  {
   "cell_type": "code",
   "execution_count": 33,
   "id": "diverse-smile",
   "metadata": {},
   "outputs": [],
   "source": [
    "# Import necessary packages\n",
    "\n",
    "%matplotlib inline\n",
    "%config InlineBackend.figure_format = 'retina'\n",
    "\n",
    "import numpy as np\n",
    "import torch\n",
    "from torch import nn, optim\n",
    "from torchvision import datasets, transforms\n",
    "import torch.nn.functional as F \n",
    "\n",
    "import matplotlib.pyplot as plt\n",
    "import time\n",
    "\n",
    "import helper\n",
    "from tqdm import tqdm"
   ]
  },
  {
   "cell_type": "markdown",
   "id": "bored-mills",
   "metadata": {},
   "source": [
    "### 2. Load Data"
   ]
  },
  {
   "cell_type": "code",
   "execution_count": 2,
   "id": "incomplete-reserve",
   "metadata": {},
   "outputs": [],
   "source": [
    "# Define a transform to normalize the data\n",
    "transform = transforms.Compose([transforms.ToTensor(),\n",
    "                                transforms.Normalize((0.5,), (0.5,))])\n",
    "# Download and load the training data\n",
    "trainset = datasets.FashionMNIST('~/.pytorch/F_MNIST_data/', download=True, train=True, transform=transform)\n",
    "trainloader = torch.utils.data.DataLoader(trainset, batch_size=64, shuffle=True)\n",
    "\n",
    "# Download and load the test data\n",
    "testset = datasets.FashionMNIST('~/.pytorch/F_MNIST_data/', download=True, train=False, transform=transform)\n",
    "testloader = torch.utils.data.DataLoader(testset, batch_size=64, shuffle=True)"
   ]
  },
  {
   "cell_type": "code",
   "execution_count": null,
   "id": "included-entity",
   "metadata": {},
   "outputs": [],
   "source": []
  },
  {
   "cell_type": "markdown",
   "id": "assumed-wound",
   "metadata": {},
   "source": [
    "### 3. NN class - Init, Train and Validate"
   ]
  },
  {
   "cell_type": "code",
   "execution_count": 293,
   "id": "taken-majority",
   "metadata": {},
   "outputs": [],
   "source": [
    "class Network(nn.Module):\n",
    "    def __init__(self):\n",
    "        super().__init__()\n",
    "        self.fc1 = nn.Linear(784, 256)\n",
    "        self.fc2 = nn.Linear(256,128)\n",
    "        self.fc3 = nn.Linear(128, 64)\n",
    "        self.fc4 = nn.Linear(64, 10)\n",
    "        self.dropout = nn.Dropout(p=0.2)\n",
    "        \n",
    "    def forward(self,x):\n",
    "        x = self.dropout(F.relu(self.fc1(x)))\n",
    "        x = self.dropout(F.relu(self.fc2(x)))\n",
    "        x = self.dropout(F.relu(self.fc3(x)))\n",
    "        x = F.log_softmax(self.fc4(x), dim=1)\n",
    "        return x\n",
    "\n",
    "        \n",
    "        \n",
    "def train_one_epoch(epoch, model, loss_fn, optimizer, train_loader):\n",
    "    #put model in training state\n",
    "    model.train()\n",
    "    \n",
    "    running_loss = 0\n",
    "    \n",
    "    #pbar = tqdm(enumerate(train_loader), total = len(train_loader)+1)\n",
    "    \n",
    "    for (imgs, labels) in train_loader:\n",
    "        imgs = imgs.view(imgs.shape[0], -1) #since we have a flat network right now\n",
    "        \n",
    "        preds = model(imgs)\n",
    "        loss = loss_fn(preds, labels)\n",
    "        loss.backward()\n",
    "        \n",
    "        optimizer.step()\n",
    "        optimizer.zero_grad()\n",
    "        \n",
    "        running_loss+= loss.item()\n",
    "    print('Epoch {} avg Training loss: {:.3f}'.format(epoch, running_loss/len(train_loader)))\n",
    "    \n",
    "    return running_loss/len(train_loader)\n",
    "        \n",
    "def valid_one_epoch(epoch, model, loss_fn, test_loader):\n",
    "    model.eval()\n",
    "    \n",
    "    #pbar = tqdm(enumerate(test_loader), total = len(test_loader))\n",
    "    running_loss = 0\n",
    "    actual_labels = []\n",
    "    pred_labels = []\n",
    "    \n",
    "    for (imgs, labels) in test_loader:\n",
    "        imgs = imgs.view(imgs.shape[0], -1) #since we have a flat network right now\n",
    "        \n",
    "        log_preds = model(imgs)\n",
    "        loss = loss_fn(log_preds, labels)\n",
    "        \n",
    "        \n",
    "        preds = torch.exp(log_preds)\n",
    "        running_loss+=loss.item()\n",
    "        \n",
    "        #calculate accuracy\n",
    "        top_prob, top_class = preds.topk(1, dim=1)\n",
    "        pred_labels+= list((top_class.view(-1)).numpy())\n",
    "        actual_labels+= list(labels.numpy())\n",
    "        \n",
    "        \n",
    "    \n",
    "    accuracy = ((np.array(pred_labels)==np.array(actual_labels)).sum())/10000 #size of test set\n",
    "    print('Epoch {} avg Valid loss: {:.3f}'.format(epoch, running_loss/len(test_loader)))\n",
    "    print('Epoch {} Valid accuracy: {:.1%}\\n'.format(epoch, accuracy))\n",
    "    \n",
    "    return running_loss/len(test_loader)\n",
    "    \n",
    "        "
   ]
  },
  {
   "cell_type": "code",
   "execution_count": 308,
   "id": "interpreted-bathroom",
   "metadata": {},
   "outputs": [],
   "source": [
    "model = Network()\n",
    "loss_fn = nn.NLLLoss()\n",
    "optimizer = optim.Adam(model.parameters(), lr = 0.003)"
   ]
  },
  {
   "cell_type": "markdown",
   "id": "cbe44a92-6129-4feb-8dbb-5a2c2ebb6a2c",
   "metadata": {},
   "source": [
    "### Train and save checkpoints"
   ]
  },
  {
   "cell_type": "code",
   "execution_count": 309,
   "id": "tribal-sunrise",
   "metadata": {},
   "outputs": [
    {
     "name": "stdout",
     "output_type": "stream",
     "text": [
      "Epoch 0 avg Training loss: 0.612\n",
      "Epoch 0 avg Valid loss: 0.482\n",
      "Epoch 0 Valid accuracy: 82.2%\n",
      "\n",
      "Epoch 1 avg Training loss: 0.487\n",
      "Epoch 1 avg Valid loss: 0.445\n",
      "Epoch 1 Valid accuracy: 83.8%\n",
      "\n",
      "1\n",
      "Epoch 2 avg Training loss: 0.454\n",
      "Epoch 2 avg Valid loss: 0.459\n",
      "Epoch 2 Valid accuracy: 83.4%\n",
      "\n",
      "Epoch 3 avg Training loss: 0.435\n",
      "Epoch 3 avg Valid loss: 0.400\n",
      "Epoch 3 Valid accuracy: 85.4%\n",
      "\n",
      "3\n",
      "Epoch 4 avg Training loss: 0.422\n",
      "Epoch 4 avg Valid loss: 0.377\n",
      "Epoch 4 Valid accuracy: 86.6%\n",
      "\n",
      "4\n",
      "Epoch 5 avg Training loss: 0.412\n",
      "Epoch 5 avg Valid loss: 0.399\n",
      "Epoch 5 Valid accuracy: 85.8%\n",
      "\n",
      "Epoch 6 avg Training loss: 0.396\n",
      "Epoch 6 avg Valid loss: 0.377\n",
      "Epoch 6 Valid accuracy: 87.0%\n",
      "\n",
      "6\n",
      "Epoch 7 avg Training loss: 0.396\n",
      "Epoch 7 avg Valid loss: 0.414\n",
      "Epoch 7 Valid accuracy: 85.6%\n",
      "\n",
      "Epoch 8 avg Training loss: 0.395\n",
      "Epoch 8 avg Valid loss: 0.398\n",
      "Epoch 8 Valid accuracy: 86.2%\n",
      "\n",
      "Epoch 9 avg Training loss: 0.389\n",
      "Epoch 9 avg Valid loss: 0.373\n",
      "Epoch 9 Valid accuracy: 87.0%\n",
      "\n",
      "9\n"
     ]
    }
   ],
   "source": [
    "train_losses = []\n",
    "valid_losses = []\n",
    "for epoch in range(10):\n",
    "    train_loss = train_one_epoch(epoch, model, loss_fn, optimizer, trainloader)\n",
    "    train_losses+= [train_loss]\n",
    "    valid_loss = valid_one_epoch(epoch, model, loss_fn, testloader)\n",
    "    valid_losses+=[valid_loss]\n",
    "    \n",
    "    \n",
    "    if len(valid_losses)>1 and (valid_loss<min(valid_losses[:-1])) :\n",
    "        print(epoch)\n",
    "        torch.save({\n",
    "            'epoch': epoch,\n",
    "            'model_state_dict': model.state_dict(),\n",
    "            'optimizer_state_dict': optimizer.state_dict(),\n",
    "            'loss': loss_fn,\n",
    "            'transforms': transform\n",
    "            }, 'Pytorch Training/checkpoint.tar')"
   ]
  },
  {
   "cell_type": "code",
   "execution_count": 301,
   "id": "stunning-local",
   "metadata": {},
   "outputs": [
    {
     "data": {
      "text/plain": [
       "<matplotlib.legend.Legend at 0x7f9eb3bd5bb0>"
      ]
     },
     "execution_count": 301,
     "metadata": {},
     "output_type": "execute_result"
    },
    {
     "data": {
      "image/png": "[encoded data removed]",
      "text/plain": [
       "<Figure size 432x288 with 1 Axes>"
      ]
     },
     "metadata": {
      "image/png": {
       "height": 248,
       "width": 378
      },
      "needs_background": "light"
     },
     "output_type": "display_data"
    }
   ],
   "source": [
    "plt.plot(train_losses, label='Training loss')\n",
    "plt.plot(valid_losses, label='Validation loss')\n",
    "plt.legend(frameon=False)"
   ]
  },
  {
   "cell_type": "code",
   "execution_count": 304,
   "id": "available-sunset",
   "metadata": {},
   "outputs": [
    {
     "data": {
      "text/plain": [
       "0.4170184508440601"
      ]
     },
     "execution_count": 304,
     "metadata": {},
     "output_type": "execute_result"
    }
   ],
   "source": [
    "valid_losses[-2]"
   ]
  },
  {
   "cell_type": "code",
   "execution_count": 305,
   "id": "respective-rally",
   "metadata": {},
   "outputs": [
    {
     "data": {
      "text/plain": [
       "[0.47917486053363534,\n",
       " 0.43566818392960127,\n",
       " 0.4055066340288539,\n",
       " 0.41197188976843646,\n",
       " 0.3997903132134942,\n",
       " 0.40096338548857696,\n",
       " 0.38286810999463317,\n",
       " 0.3849425741062043,\n",
       " 0.4170184508440601,\n",
       " 0.39194374602691384]"
      ]
     },
     "execution_count": 305,
     "metadata": {},
     "output_type": "execute_result"
    }
   ],
   "source": [
    "valid_losses"
   ]
  },
  {
   "cell_type": "code",
   "execution_count": null,
   "id": "injured-colon",
   "metadata": {},
   "outputs": [],
   "source": []
  }
 ],
 "metadata": {
  "kernelspec": {
   "display_name": "Python 3",
   "language": "python",
   "name": "python3"
  },
  "language_info": {
   "codemirror_mode": {
    "name": "ipython",
    "version": 3
   },
   "file_extension": ".py",
   "mimetype": "text/x-python",
   "name": "python",
   "nbconvert_exporter": "python",
   "pygments_lexer": "ipython3",
   "version": "3.8.5"
  }
 },
 "nbformat": 4,
 "nbformat_minor": 5
}
