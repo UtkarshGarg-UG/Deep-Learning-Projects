{
 "cells": [
  {
   "cell_type": "markdown",
   "id": "0d0d3974-f65e-4f65-a5d8-c3ba877d6b40",
   "metadata": {},
   "source": [
    "## Feed forward Network from scratch\n",
    "\n",
    "> In this notebook, we use sentiment data to build our classifier from scratch in numpy.\n",
    "\n",
    "> We'll write both the forward and backward pass"
   ]
  },
  {
   "cell_type": "code",
   "execution_count": 49,
   "id": "exclusive-essex",
   "metadata": {},
   "outputs": [],
   "source": [
    "%matplotlib inline\n",
    "import warnings\n",
    "warnings.filterwarnings(\"ignore\")\n",
    "\n",
    "\n",
    "from collections import Counter\n",
    "import pandas as pd\n",
    "import numpy as np\n",
    "import matplotlib.pyplot as plt"
   ]
  },
  {
   "cell_type": "markdown",
   "id": "american-arthritis",
   "metadata": {},
   "source": [
    "### 1. Load Data"
   ]
  },
  {
   "cell_type": "code",
   "execution_count": 50,
   "id": "racial-compilation",
   "metadata": {},
   "outputs": [],
   "source": [
    "def pretty_print_review_and_label(i):\n",
    "    print(labels[i] + \"\\t:\\t\" + reviews[i][:80] + \"...\")\n",
    "\n",
    "g = open('reviews.txt','r') # What we know!\n",
    "reviews = list(map(lambda x:x[:-1],g.readlines()))\n",
    "g.close()\n",
    "\n",
    "g = open('labels.txt','r') # What we WANT to know!\n",
    "labels = list(map(lambda x:x[:-1].upper(),g.readlines()))\n",
    "g.close()"
   ]
  },
  {
   "cell_type": "code",
   "execution_count": 51,
   "id": "forbidden-motivation",
   "metadata": {},
   "outputs": [
    {
     "name": "stdout",
     "output_type": "stream",
     "text": [
      "Total reviews in the dataset :  25000\n",
      "Total labels in the dataset :  2\n"
     ]
    }
   ],
   "source": [
    "print('Total reviews in the dataset : ', len(reviews))\n",
    "print('Total labels in the dataset : ', len(set(labels)))"
   ]
  },
  {
   "cell_type": "code",
   "execution_count": 52,
   "id": "scenic-performance",
   "metadata": {},
   "outputs": [
    {
     "name": "stdout",
     "output_type": "stream",
     "text": [
      "POSITIVE\t:\twhile returning from a christmas eve shopping trip  an abused suburban housewife...\n",
      "POSITIVE\t:\ti watch this movie all the time . i  ve watched it with family ages  to    and e...\n",
      "NEGATIVE\t:\ti saw this film under the title of  tied up  . in general i have enjoyed dolph  ...\n",
      "POSITIVE\t:\tdespite the other comments listed here  this is probably the best dirty harry mo...\n",
      "POSITIVE\t:\tthis movie is cold  bare truth . often we think  oh no  that won  t happen to me...\n",
      "POSITIVE\t:\twriter  director brian de palma is best known for his string of films that have ...\n",
      "NEGATIVE\t:\twith the releasing of  farligt frflutet  swedish film industry has truly hit roc...\n",
      "POSITIVE\t:\t  cry freedom  is not just a movie . it is a historical account  heroic story  a...\n"
     ]
    }
   ],
   "source": [
    "for i in range(8):\n",
    "    pretty_print_review_and_label(np.random.randint(0,len(reviews)))"
   ]
  },
  {
   "cell_type": "markdown",
   "id": "temporal-twelve",
   "metadata": {},
   "source": [
    "### 2. Testing a theory\n",
    "> More positive adjectives are used in positive sentences and more negative are used in negative sentences.\n",
    "\n",
    "Let's check this theory"
   ]
  },
  {
   "cell_type": "code",
   "execution_count": 53,
   "id": "acquired-ballot",
   "metadata": {},
   "outputs": [],
   "source": [
    "# Create three Counter objects to store positive, negative and total counts\n",
    "positive_counts = Counter()\n",
    "negative_counts = Counter()\n",
    "total_counts = Counter()\n",
    "\n",
    "# Count words in POSITIVE and storing in a positive counter and also in total counter. Same for negative\n",
    "for review, label in zip(reviews, labels):\n",
    "    if label=='POSITIVE':\n",
    "        for word in review.split(' '):\n",
    "            positive_counts[word]+=1\n",
    "            total_counts[word]+=1\n",
    "    if label=='NEGATIVE':\n",
    "        for word in review.split(' '):\n",
    "            negative_counts[word]+=1\n",
    "            total_counts[word]+=1\n",
    "    \n"
   ]
  },
  {
   "cell_type": "code",
   "execution_count": 54,
   "id": "cleared-slovenia",
   "metadata": {},
   "outputs": [
    {
     "data": {
      "text/plain": [
       "[('', 550468),\n",
       " ('the', 173324),\n",
       " ('.', 159654),\n",
       " ('and', 89722),\n",
       " ('a', 83688),\n",
       " ('of', 76855),\n",
       " ('to', 66746),\n",
       " ('is', 57245),\n",
       " ('in', 50215),\n",
       " ('br', 49235)]"
      ]
     },
     "execution_count": 54,
     "metadata": {},
     "output_type": "execute_result"
    }
   ],
   "source": [
    "positive_counts.most_common(10)"
   ]
  },
  {
   "cell_type": "code",
   "execution_count": 55,
   "id": "sought-balance",
   "metadata": {},
   "outputs": [
    {
     "name": "stdout",
     "output_type": "stream",
     "text": [
      "positive/negative ratio for amazing:  1.3929263134236418\n",
      "positive/negative ratio for terrible:  -1.7250680947293828\n",
      "vocab : 74074\n"
     ]
    }
   ],
   "source": [
    "#taking ratio of positive to negative then calculate log for + and - sign\n",
    "pos_neg_ratio = Counter()\n",
    "for word in list(total_counts):\n",
    "    pos_neg_ratio[word] = np.log((positive_counts[word]+1) / (negative_counts[word] + 1))\n",
    "\n",
    "print('positive/negative ratio for amazing: ', pos_neg_ratio['amazing'])\n",
    "print('positive/negative ratio for terrible: ', pos_neg_ratio['terrible'])\n",
    "print('vocab :', len(list(pos_neg_ratio)))"
   ]
  },
  {
   "cell_type": "code",
   "execution_count": 56,
   "id": "desperate-growth",
   "metadata": {},
   "outputs": [
    {
     "data": {
      "text/plain": [
       "[('edie', 4.700480365792417),\n",
       " ('antwone', 4.48863636973214),\n",
       " ('din', 4.418840607796598),\n",
       " ('gunga', 4.204692619390966),\n",
       " ('goldsworthy', 4.189654742026425),\n",
       " ('gypo', 4.110873864173311),\n",
       " ('yokai', 4.110873864173311),\n",
       " ('paulie', 4.085976312551584),\n",
       " ('visconti', 3.9512437185814275),\n",
       " ('flavia', 3.9512437185814275)]"
      ]
     },
     "execution_count": 56,
     "metadata": {},
     "output_type": "execute_result"
    }
   ],
   "source": [
    "pos_neg_ratio.most_common(10)"
   ]
  },
  {
   "cell_type": "code",
   "execution_count": 57,
   "id": "enhanced-insurance",
   "metadata": {},
   "outputs": [
    {
     "data": {
      "text/plain": [
       "[('delia', -3.6109179126442243),\n",
       " ('gram', -3.6375861597263857),\n",
       " ('sarne', -3.6375861597263857),\n",
       " ('kornbluth', -3.6888794541139363),\n",
       " ('kareena', -3.7376696182833684),\n",
       " ('tashan', -3.828641396489095),\n",
       " ('hobgoblins', -3.828641396489095),\n",
       " ('slater', -3.912023005428146),\n",
       " ('uwe', -3.9318256327243257),\n",
       " ('boll', -4.276666119016055)]"
      ]
     },
     "execution_count": 57,
     "metadata": {},
     "output_type": "execute_result"
    }
   ],
   "source": [
    "pos_neg_ratio.most_common()[-10:]"
   ]
  },
  {
   "cell_type": "markdown",
   "id": "normal-treasury",
   "metadata": {},
   "source": [
    "> These words do not look like positive or negative. Let's add min_count and then recalculate"
   ]
  },
  {
   "cell_type": "code",
   "execution_count": 58,
   "id": "qualified-jefferson",
   "metadata": {},
   "outputs": [
    {
     "name": "stdout",
     "output_type": "stream",
     "text": [
      "vocab : 7074\n"
     ]
    }
   ],
   "source": [
    "#taking ratio of positive to negative then calculate log for + and - sign\n",
    "pos_neg_ratio = Counter()\n",
    "min_count = 50\n",
    "for word in list(total_counts):\n",
    "    if total_counts[word] > min_count:\n",
    "        pos_neg_ratio[word] = np.log((positive_counts[word]+1) / (negative_counts[word] + 1))\n",
    "print('vocab :', len(list(pos_neg_ratio)))"
   ]
  },
  {
   "cell_type": "code",
   "execution_count": 59,
   "id": "expired-justice",
   "metadata": {},
   "outputs": [
    {
     "data": {
      "text/plain": [
       "[('edie', 4.700480365792417),\n",
       " ('antwone', 4.48863636973214),\n",
       " ('din', 4.418840607796598),\n",
       " ('gunga', 4.204692619390966),\n",
       " ('goldsworthy', 4.189654742026425),\n",
       " ('gypo', 4.110873864173311),\n",
       " ('yokai', 4.110873864173311),\n",
       " ('paulie', 4.085976312551584),\n",
       " ('visconti', 3.9512437185814275),\n",
       " ('flavia', 3.9512437185814275)]"
      ]
     },
     "execution_count": 59,
     "metadata": {},
     "output_type": "execute_result"
    }
   ],
   "source": [
    "pos_neg_ratio.most_common(10)"
   ]
  },
  {
   "cell_type": "code",
   "execution_count": 60,
   "id": "simplified-authority",
   "metadata": {},
   "outputs": [
    {
     "data": {
      "text/plain": [
       "[('dreck', -2.9831534913471307),\n",
       " ('stinker', -2.9856819377004897),\n",
       " ('unwatchable', -3.0349529867072724),\n",
       " ('wayans', -3.2386784521643803),\n",
       " ('dahmer', -3.295836866004329),\n",
       " ('beowulf', -3.417726683613366),\n",
       " ('seagal', -3.4210000089583352),\n",
       " ('thunderbirds', -3.4339872044851463),\n",
       " ('uwe', -3.9318256327243257),\n",
       " ('boll', -4.276666119016055)]"
      ]
     },
     "execution_count": 60,
     "metadata": {},
     "output_type": "execute_result"
    }
   ],
   "source": [
    "pos_neg_ratio.most_common()[-10:]"
   ]
  },
  {
   "cell_type": "markdown",
   "id": "naked-converter",
   "metadata": {},
   "source": [
    "> Not much better. But reduces the vocab to 10%\n",
    "\n",
    "### Let's check out some actual adjectives"
   ]
  },
  {
   "cell_type": "code",
   "execution_count": 61,
   "id": "impressive-savings",
   "metadata": {},
   "outputs": [],
   "source": [
    "vocab = list(pos_neg_ratio)\n",
    "adj_dic = {}\n",
    "adj = ['awesome', 'great','ok','brilliant','superior', 'terrific','fantastic',\n",
    "            'bad', 'atrocious', 'terrible', 'poor', 'laughable','inferior']\n",
    "for i in range(len(adj)):\n",
    "    if adj[i] in vocab:\n",
    "        adj_dic[adj[i]] = pos_neg_ratio[adj[i]]\n",
    "    else:\n",
    "        print(adj[i])\n",
    "df = pd.DataFrame({'adjectives': adj_dic.keys(), 'ratios': adj_dic.values()}).sort_values(by='ratios',ascending =False)\n",
    "colors = ['g' if i>0 else 'r' for i in df.ratios]"
   ]
  },
  {
   "cell_type": "code",
   "execution_count": 62,
   "id": "scheduled-association",
   "metadata": {},
   "outputs": [
    {
     "data": {
      "image/png": "[encoded data removed]",
      "text/plain": [
       "<Figure size 1296x576 with 1 Axes>"
      ]
     },
     "metadata": {
      "needs_background": "light"
     },
     "output_type": "display_data"
    }
   ],
   "source": [
    "_=df.plot(x = 'adjectives', y ='ratios', kind='bar', figsize = (18,8), title = 'Adjective Ratios', color=colors)"
   ]
  },
  {
   "cell_type": "markdown",
   "id": "mounted-wyoming",
   "metadata": {},
   "source": [
    "> OK is on the negative side!"
   ]
  },
  {
   "cell_type": "markdown",
   "id": "portable-liechtenstein",
   "metadata": {},
   "source": [
    "### 3. Building model"
   ]
  },
  {
   "cell_type": "code",
   "execution_count": 63,
   "id": "monthly-procedure",
   "metadata": {},
   "outputs": [],
   "source": [
    "import time\n",
    "import sys\n",
    "import numpy as np\n",
    "\n",
    "class SentimentNetwork:\n",
    "    def __init__(self, reviews, labels, hidden_nodes = 10, learning_rate = 0.1, keep_freq=True):\n",
    "        \n",
    "        #to keep results same\n",
    "        np.random.seed(1)\n",
    "        self.reviews = reviews\n",
    "        self.labels = labels\n",
    "        self.hidden_nodes = hidden_nodes\n",
    "        self.learning_rate = learning_rate\n",
    "        self.data_size = len(reviews)\n",
    "        \n",
    "        \n",
    "        # if we want counts or only ones in one hot\n",
    "        self.keep_freq=keep_freq\n",
    "        \n",
    "        #preprocess data\n",
    "        self.preprocess_data()\n",
    "        \n",
    "        #Initiate Network\n",
    "        self.init_network()\n",
    "    \n",
    "    def preprocess_data(self):\n",
    "        '''\n",
    "        i. make vocab from reviews and labels and store in variable\n",
    "        ii. create lengths for vocab lengths\n",
    "        iii. create word2index and index2word\n",
    "        '''\n",
    "        #i. Create vocab\n",
    "        self.review_vocab = set()\n",
    "        for review in reviews:\n",
    "            for word in review.split(\" \"):\n",
    "                self.review_vocab.add(word)\n",
    "        \n",
    "        self.label_vocab = set()\n",
    "        for label in labels:\n",
    "            self.label_vocab.add(label)\n",
    "        \n",
    "        \n",
    "        #2. Length of vocab\n",
    "        self.review_vocab_size = len(self.review_vocab)\n",
    "        self.label_vocab_size = len(self.label_vocab)\n",
    "        \n",
    "        #3. create indexes\n",
    "        self.word2index = {}\n",
    "        for i,word in enumerate(self.review_vocab):\n",
    "            self.word2index[word] = i\n",
    "            \n",
    "        self.index2word = {y:x for x,y in self.word2index.items()}\n",
    "        \n",
    "    def init_network(self):\n",
    "        '''\n",
    "        Initiate the network structure\n",
    "        '''\n",
    "        self.input_size = self.review_vocab_size\n",
    "        self.hidden_size = self.hidden_nodes\n",
    "        self.output_size = 1\n",
    "        \n",
    "        \n",
    "        #Initialize the weights by reducing the variance to 1 for each layer. Accelarates training\n",
    "        self.w_0_1 = np.random.normal(scale=1 / self.input_size ** .5, size = (self.input_size, self.hidden_size))\n",
    "        self.w_1_2 = np.random.normal(scale=1 / self.hidden_size ** .5, size = (self.hidden_size, self.output_size))\n",
    "        \n",
    "        # input layer with shape (1, input_size)\n",
    "        self.layer_0 = np.zeros((1,self.input_size))\n",
    "        \n",
    "    \n",
    "    def update_input_layer(self,review):\n",
    "        '''\n",
    "            One hot encode data (count in this case)\n",
    "        '''\n",
    "\n",
    "        # clear out previous state, reset the layer to be all 0s\n",
    "        self.layer_0 *= 0\n",
    "        \n",
    "        for word in review.split(\" \"):\n",
    "            if(word in self.word2index.keys()):\n",
    "                if self.keep_freq:\n",
    "                    self.layer_0[0][self.word2index[word]] += 1  #count for each word\n",
    "                else:\n",
    "                    self.layer_0[0][self.word2index[word]] = 1  #1 for each word. i,e, present/not present\n",
    "        return self.layer_0\n",
    "        \n",
    "    def get_target_for_label(self,label):\n",
    "        if(label == 'POSITIVE'):\n",
    "            return 1\n",
    "        else:\n",
    "            return 0\n",
    "        \n",
    "    def sigmoid(self,x):\n",
    "        return 1 / (1 + np.exp(-x))\n",
    "    \n",
    "    def sigmoid_output_2_derivative(self,output):\n",
    "        return output * (1 - output)\n",
    "    \n",
    "    \n",
    "    def forward_pass(self):\n",
    "        \n",
    "        #input_data-> (1, self.input_size)\n",
    "        #w_0_1 -> (self.input_size, self.hidden_size)\n",
    "        \n",
    "        # (m, hidden_size)\n",
    "        self.a1 = self.sigmoid(np.dot(self.input_data, self.w_0_1))\n",
    "        \n",
    "        # (m,1)\n",
    "        self.a2 = self.sigmoid(np.dot(self.a1, self.w_1_2))\n",
    "        \n",
    "        self.loss = self.label - self.a2 \n",
    "        \n",
    "        \n",
    "        \n",
    "        \n",
    "    def backward_pass(self):\n",
    "        \n",
    "        # (m,output_size)\n",
    "        error_term_1_2 = self.loss * self.a2 * (1-self.a2)\n",
    "        # (hidden_size, outputsize)\n",
    "        self.w_1_2+= self.learning_rate * np.dot(self.a1.T , error_term_1_2)\n",
    "        \n",
    "        # (m, hidden_size)\n",
    "        error_term_0_1 = np.dot(error_term_1_2 , self.w_1_2.T) * self.a1 * (1-self.a1)\n",
    "        # (input_size, hidden_size)\n",
    "        self.w_0_1+= self.learning_rate *  np.dot(self.input_data.T, error_term_0_1)\n",
    "        \n",
    "        \n",
    "        \n",
    "    \n",
    "    def train(self, epochs ,train_reviews, train_labels):\n",
    "        epoch_accuracies = []\n",
    "        for epoch in range(epochs):\n",
    "            counter=0\n",
    "            right_preds = 0\n",
    "            for review, label in zip(train_reviews, train_labels):\n",
    "                counter+=1\n",
    "                \n",
    "                self.input_data = self.update_input_layer(review)\n",
    "                self.label = self.get_target_for_label(label)\n",
    "                \n",
    "                self.forward_pass()\n",
    "                self.backward_pass()\n",
    "                \n",
    "                \n",
    "                if (self.a2>=0.5 and self.label==1) or (self.a2<0.5 and self.label==0):\n",
    "                    right_preds+=1\n",
    "                \n",
    "                #if counter%1000==0:\n",
    "                #    print('avg accuracy after {}: {:.1%}'.format(counter, right_preds/counter) )\n",
    "            print('avg accuracy after {} epoch: {:.1%}'.format(epoch+1, right_preds/counter) )\n",
    "            epoch_accuracies.append(right_preds/len(train_reviews))\n",
    "        \n",
    "        \n",
    "        print(epoch_accuracies)\n",
    "        plt.plot(epoch_accuracies)\n",
    "    \n",
    "    \n",
    "    def test(self, test_reviews, test_labels):\n",
    "        counter=0\n",
    "        right_preds=0\n",
    "        for review, label in zip(test_reviews, test_labels):\n",
    "                counter+=1\n",
    "                \n",
    "                self.input_data = self.update_input_layer(review)\n",
    "                self.label = self.get_target_for_label(label)\n",
    "                \n",
    "                self.forward_pass()\n",
    "                \n",
    "                if (self.a2>=0.5 and self.label==1) or (self.a2<0.5 and self.label==0):\n",
    "                    right_preds+=1\n",
    "                \n",
    "                #if counter%100==0:\n",
    "                #    print('avg accuracy after {}: {:.1%}'.format(counter, right_preds/counter) )\n",
    "        print('Test accuracy: {:.1%}'.format(right_preds/len(test_reviews)) )\n",
    "        \n",
    "                \n",
    "        \n",
    "                "
   ]
  },
  {
   "cell_type": "markdown",
   "id": "front-opera",
   "metadata": {},
   "source": [
    "### What happens if we use counts for one hot?\n",
    "1. With lr = 0.1\n",
    "2. with lr = 0.001"
   ]
  },
  {
   "cell_type": "code",
   "execution_count": 64,
   "id": "bacterial-black",
   "metadata": {},
   "outputs": [
    {
     "name": "stdout",
     "output_type": "stream",
     "text": [
      "avg accuracy after 1 epoch: 43.1%\n",
      "avg accuracy after 2 epoch: 58.9%\n",
      "avg accuracy after 3 epoch: 62.9%\n",
      "avg accuracy after 4 epoch: 63.3%\n",
      "avg accuracy after 5 epoch: 64.3%\n",
      "[0.43115688431156884, 0.589041095890411, 0.6292370762923708, 0.6325367463253675, 0.6433356664333567]\n",
      "Test accuracy: 63.3%\n"
     ]
    },
    {
     "data": {
      "image/png": "[encoded data removed]",
      "text/plain": [
       "<Figure size 432x288 with 1 Axes>"
      ]
     },
     "metadata": {
      "needs_background": "light"
     },
     "output_type": "display_data"
    }
   ],
   "source": [
    "#1. lr=0.1\n",
    "sentnet1 = SentimentNetwork(reviews, labels, hidden_nodes = 10, learning_rate = 0.1, keep_freq=True) #\n",
    "sentnet1.train(5,reviews[:10001],labels[:10001])\n",
    "sentnet1.test(reviews[-10000:], labels[-10000:])"
   ]
  },
  {
   "cell_type": "code",
   "execution_count": 65,
   "id": "local-swing",
   "metadata": {},
   "outputs": [
    {
     "name": "stdout",
     "output_type": "stream",
     "text": [
      "avg accuracy after 1 epoch: 58.8%\n",
      "avg accuracy after 2 epoch: 67.0%\n",
      "avg accuracy after 3 epoch: 70.8%\n",
      "avg accuracy after 4 epoch: 73.4%\n",
      "avg accuracy after 5 epoch: 75.2%\n",
      "[0.5880411958804119, 0.6697330266973303, 0.7076292370762923, 0.7339266073392661, 0.7521247875212479]\n",
      "Test accuracy: 74.7%\n"
     ]
    },
    {
     "data": {
      "image/png": "[encoded data removed]",
      "text/plain": [
       "<Figure size 432x288 with 1 Axes>"
      ]
     },
     "metadata": {
      "needs_background": "light"
     },
     "output_type": "display_data"
    }
   ],
   "source": [
    "#2. lr=0.001\n",
    "sentnet1 = SentimentNetwork(reviews, labels, hidden_nodes = 10, learning_rate = 0.001, keep_freq=True) #\n",
    "sentnet1.train(5,reviews[:10001],labels[:10001])\n",
    "sentnet1.test(reviews[-10000:], labels[-10000:])"
   ]
  },
  {
   "cell_type": "markdown",
   "id": "inappropriate-treat",
   "metadata": {},
   "source": [
    "> Observation : We can see that we needed lower learning rate when we used counts. That is because the skewed values in the columns. The weight updates depend on the inputs. So some weights have very high updates and some very low.\n",
    "\n",
    "### $\\triangle w = -\\eta*(y-\\hat{y}) * f\\prime(h) * x$ \n",
    "\n",
    "If x>>0 or x<<0, the $f\\prime(h)$ of sigmoid (which is $\\sigma(h)*(1-\\sigma(h))$ are near to 0. So by normalising (mean=0, sd=1) we get better gradients as it scaledown the input values considerably."
   ]
  },
  {
   "cell_type": "markdown",
   "id": "remarkable-header",
   "metadata": {},
   "source": [
    "### What happens if we use 1/0 for one hot?\n",
    "1. With lr = 0.1\n",
    "2. with lr = 0.001"
   ]
  },
  {
   "cell_type": "code",
   "execution_count": 66,
   "id": "effective-metallic",
   "metadata": {},
   "outputs": [
    {
     "name": "stdout",
     "output_type": "stream",
     "text": [
      "avg accuracy after 1 epoch: 82.7%\n",
      "avg accuracy after 2 epoch: 91.0%\n",
      "avg accuracy after 3 epoch: 94.8%\n",
      "avg accuracy after 4 epoch: 96.8%\n",
      "avg accuracy after 5 epoch: 97.7%\n",
      "[0.8267173282671733, 0.9101089891010898, 0.9479052094790521, 0.9683031696830317, 0.9774022597740226]\n",
      "Test accuracy: 83.9%\n"
     ]
    },
    {
     "data": {
      "image/png": "[encoded data removed]",
      "text/plain": [
       "<Figure size 432x288 with 1 Axes>"
      ]
     },
     "metadata": {
      "needs_background": "light"
     },
     "output_type": "display_data"
    }
   ],
   "source": [
    "#1. lr=0.1\n",
    "sentnet1 = SentimentNetwork(reviews, labels, hidden_nodes = 10, learning_rate = 0.1, keep_freq=False) #\n",
    "sentnet1.train(5,reviews[:10001],labels[:10001])\n",
    "sentnet1.test(reviews[-10000:], labels[-10000:])"
   ]
  },
  {
   "cell_type": "code",
   "execution_count": 67,
   "id": "phantom-jacket",
   "metadata": {},
   "outputs": [
    {
     "name": "stdout",
     "output_type": "stream",
     "text": [
      "avg accuracy after 1 epoch: 56.9%\n",
      "avg accuracy after 2 epoch: 73.8%\n",
      "avg accuracy after 3 epoch: 79.0%\n",
      "avg accuracy after 4 epoch: 80.3%\n",
      "avg accuracy after 5 epoch: 80.7%\n",
      "[0.5692430756924307, 0.7384261573842615, 0.79002099790021, 0.8026197380261973, 0.8066193380661933]\n",
      "Test accuracy: 79.2%\n"
     ]
    },
    {
     "data": {
      "image/png": "[encoded data removed]",
      "text/plain": [
       "<Figure size 432x288 with 1 Axes>"
      ]
     },
     "metadata": {
      "needs_background": "light"
     },
     "output_type": "display_data"
    }
   ],
   "source": [
    "#2. lr=0.001\n",
    "sentnet1 = SentimentNetwork(reviews, labels, hidden_nodes = 10, learning_rate = 0.001, keep_freq=False) #\n",
    "sentnet1.train(5,reviews[:10001],labels[:10001])\n",
    "sentnet1.test(reviews[-10000:], labels[-10000:])"
   ]
  },
  {
   "cell_type": "markdown",
   "id": "normal-bullet",
   "metadata": {},
   "source": [
    "> The data is now \"normalized\" (not exactly). Now a column can be 0 and 1. So the updates to each weight is quite uniform as compared to before. This allows us to use higher learning rates as updates to weights and hence error does not go haywire."
   ]
  },
  {
   "cell_type": "markdown",
   "id": "magnetic-password",
   "metadata": {},
   "source": [
    "### Using weights to understand similar words\n",
    "Words with similar weights should be closer in meanings as compared to weigths which are not similar. These are word embeddings"
   ]
  },
  {
   "cell_type": "code",
   "execution_count": 82,
   "id": "9f7ea7b0-7a30-4c92-9059-55db9d08bb77",
   "metadata": {},
   "outputs": [],
   "source": [
    "def check_similarity(word1, word2):\n",
    "    word1_embedding = sentnet1.w_0_1[sentnet1.word2index[word1]]\n",
    "    word2_embedding = sentnet1.w_0_1[sentnet1.word2index[word2]]\n",
    "    print(\"Shape of embedding: \", word1_embedding.shape)\n",
    "    print(\"Cosimilarity of {} and {} : {}\".format(word1, word2, np.dot(word1_embedding,word2_embedding)/(norm(word1_embedding)*norm(word2_embedding))))"
   ]
  },
  {
   "cell_type": "markdown",
   "id": "7ac9667f-0a1c-4fd2-ac33-29960ad39a7b",
   "metadata": {},
   "source": [
    "> Poitive words\n",
    "\n",
    "**great** and **good** both are very similar"
   ]
  },
  {
   "cell_type": "code",
   "execution_count": 83,
   "id": "c2183490-dea7-4ab0-a941-12b0d0e72214",
   "metadata": {},
   "outputs": [
    {
     "name": "stdout",
     "output_type": "stream",
     "text": [
      "Shape of embedding:  (10,)\n",
      "Cosimilarity of great and good : 0.9190731093207843\n"
     ]
    }
   ],
   "source": [
    "check_similarity('great','good')"
   ]
  },
  {
   "cell_type": "markdown",
   "id": "2c8d7e84-4420-4f75-acf5-0f524ffe513b",
   "metadata": {},
   "source": [
    "> Negative words\n",
    "\n",
    "**dumb** and **slow** both are very similar"
   ]
  },
  {
   "cell_type": "code",
   "execution_count": 88,
   "id": "f893ab86-94f1-47ed-950b-5a5cf9b0029a",
   "metadata": {},
   "outputs": [
    {
     "name": "stdout",
     "output_type": "stream",
     "text": [
      "Shape of embedding:  (10,)\n",
      "Cosimilarity of dumb and slow : 0.8934478503801366\n"
     ]
    }
   ],
   "source": [
    "check_similarity('dumb', 'slow')"
   ]
  },
  {
   "cell_type": "markdown",
   "id": "d0fa28f1-7067-487a-adf4-a38a62137c9f",
   "metadata": {},
   "source": [
    "> Opposite words\n",
    "\n",
    "**bad** and **good** both are of opposite polarity"
   ]
  },
  {
   "cell_type": "code",
   "execution_count": 89,
   "id": "aaa71473-0a11-4653-860e-19eed43d996e",
   "metadata": {},
   "outputs": [
    {
     "name": "stdout",
     "output_type": "stream",
     "text": [
      "Shape of embedding:  (10,)\n",
      "Cosimilarity of bad and good : -0.9285942403344846\n"
     ]
    }
   ],
   "source": [
    "check_similarity('bad','good')"
   ]
  },
  {
   "cell_type": "code",
   "execution_count": null,
   "id": "e3740d56-5a78-48b5-84fd-e27d36051665",
   "metadata": {},
   "outputs": [],
   "source": []
  }
 ],
 "metadata": {
  "kernelspec": {
   "display_name": "Python 3",
   "language": "python",
   "name": "python3"
  },
  "language_info": {
   "codemirror_mode": {
    "name": "ipython",
    "version": 3
   },
   "file_extension": ".py",
   "mimetype": "text/x-python",
   "name": "python",
   "nbconvert_exporter": "python",
   "pygments_lexer": "ipython3",
   "version": "3.8.5"
  }
 },
 "nbformat": 4,
 "nbformat_minor": 5
}
